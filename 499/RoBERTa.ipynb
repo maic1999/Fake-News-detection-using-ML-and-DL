{
 "cells": [
  {
   "cell_type": "code",
   "execution_count": 1,
   "metadata": {},
   "outputs": [
    {
     "name": "stderr",
     "output_type": "stream",
     "text": [
      "Some weights of RobertaForSequenceClassification were not initialized from the model checkpoint at roberta-base and are newly initialized: ['classifier.dense.bias', 'classifier.dense.weight', 'classifier.out_proj.bias', 'classifier.out_proj.weight']\n",
      "You should probably TRAIN this model on a down-stream task to be able to use it for predictions and inference.\n"
     ]
    },
    {
     "name": "stdout",
     "output_type": "stream",
     "text": [
      "device: cpu\n"
     ]
    },
    {
     "name": "stderr",
     "output_type": "stream",
     "text": [
      "Epoch [1/1]: 100%|██████████| 175/175 [18:09<00:00,  6.23s/it, acc=0.625, loss=0.606]\n"
     ]
    }
   ],
   "source": [
    "import torch\n",
    "from torch.utils.data import Dataset, DataLoader\n",
    "from torch.nn.utils.rnn import pad_sequence\n",
    "from tqdm import tqdm\n",
    "from sklearn.metrics import accuracy_score\n",
    "from transformers import RobertaTokenizer, RobertaForSequenceClassification\n",
    "import pandas as pd\n",
    "\n",
    "class FakeNewsDatasetLIAR(Dataset):\n",
    "    def __init__(self, mode, tokenizer, path):\n",
    "        assert mode in ['train', 'val']\n",
    "        self.mode = mode\n",
    "        self.df = pd.read_csv(path + mode + '.tsv', sep='\\t').fillna('')\n",
    "        self.len = len(self.df)\n",
    "        self.tokenizer = tokenizer  # RoBERTa tokenizer\n",
    "\n",
    "    def __getitem__(self, idx):\n",
    "        label, statement = self.df.iloc[idx, :].values\n",
    "        label_tensor = torch.tensor(label)\n",
    "\n",
    "        word_pieces = ['<s>']\n",
    "        statement = self.tokenizer.tokenize(statement)\n",
    "        word_pieces += statement + ['</s>']\n",
    "        len_st = len(word_pieces)\n",
    "\n",
    "        ids = self.tokenizer.convert_tokens_to_ids(word_pieces)\n",
    "        tokens_tensor = torch.tensor(ids)\n",
    "\n",
    "        segments_tensor = torch.tensor([0] * len_st, dtype=torch.long)\n",
    "\n",
    "        return (tokens_tensor, segments_tensor, label_tensor)\n",
    "\n",
    "    def __len__(self):\n",
    "        return self.len\n",
    "\n",
    "def create_mini_batch(samples):\n",
    "    tokens_tensors = [s[0] for s in samples]\n",
    "    segments_tensors = [s[1] for s in samples]\n",
    "\n",
    "    if samples[0][2] is not None:\n",
    "        label_ids = torch.stack([s[2] for s in samples])\n",
    "        label_ids = label_ids.squeeze()  # Squeeze to handle potential extra dimension\n",
    "    else:\n",
    "        label_ids = None\n",
    "\n",
    "    # Zero padding\n",
    "    tokens_tensors = pad_sequence(tokens_tensors, batch_first=True)\n",
    "    segments_tensors = pad_sequence(segments_tensors, batch_first=True)\n",
    "\n",
    "    masks_tensors = torch.zeros(tokens_tensors.shape, dtype=torch.long)\n",
    "    masks_tensors = masks_tensors.masked_fill(tokens_tensors != 0, 1)\n",
    "\n",
    "    return tokens_tensors, segments_tensors, masks_tensors, label_ids\n",
    "\n",
    "BATCH_SIZE = 16\n",
    "\n",
    "MODEL_NAME = 'roberta-base'\n",
    "tokenizer = RobertaTokenizer.from_pretrained(MODEL_NAME)\n",
    "\n",
    "NUM_LABELS = 2\n",
    "\n",
    "model = RobertaForSequenceClassification.from_pretrained(\n",
    "    MODEL_NAME, num_labels=NUM_LABELS)\n",
    "trainset = FakeNewsDatasetLIAR('train', tokenizer=tokenizer, path='./')\n",
    "trainloader = DataLoader(trainset, batch_size=BATCH_SIZE, collate_fn=create_mini_batch)\n",
    "\n",
    "device = torch.device('cuda:0' if torch.cuda.is_available() else 'cpu')\n",
    "print('device:', device)\n",
    "model.to(device)\n",
    "\n",
    "model.train()\n",
    "optimizer = torch.optim.AdamW(model.parameters(), lr=1e-5)\n",
    "NUM_EPOCHS = 1\n",
    "\n",
    "for epoch in range(NUM_EPOCHS):\n",
    "    train_loss = 0.0\n",
    "    train_acc = 0.0\n",
    "\n",
    "    loop = tqdm(trainloader)\n",
    "    for batch_idx, data in enumerate(loop):\n",
    "        tokens_tensors, segments_tensors, masks_tensors, labels = [t.to(device) for t in data]\n",
    "\n",
    "        optimizer.zero_grad()\n",
    "\n",
    "        # Ensure labels are LongTensor and handle the case when labels are not available\n",
    "        if labels is not None:\n",
    "            labels = labels.to(device, dtype=torch.long)\n",
    "\n",
    "        outputs = model(input_ids=tokens_tensors,\n",
    "                        token_type_ids=segments_tensors,\n",
    "                        attention_mask=masks_tensors,\n",
    "                        labels=labels)\n",
    "\n",
    "        loss = outputs.loss\n",
    "        loss.backward()\n",
    "        optimizer.step()\n",
    "\n",
    "        logits = outputs.logits\n",
    "        _, pred = torch.max(logits.data, 1)\n",
    "        train_acc = accuracy_score(pred.cpu().tolist(), labels.cpu().tolist())\n",
    "\n",
    "        train_loss += loss.item()\n",
    "\n",
    "        loop.set_description(f'Epoch [{epoch + 1}/{NUM_EPOCHS}]')\n",
    "        loop.set_postfix(acc=train_acc, loss=train_loss / (batch_idx + 1))"
   ]
  },
  {
   "cell_type": "code",
   "execution_count": 2,
   "metadata": {},
   "outputs": [
    {
     "name": "stdout",
     "output_type": "stream",
     "text": [
      "liar valset size: 700\n"
     ]
    }
   ],
   "source": [
    "# load all valsets\n",
    "\n",
    "valset_liar = FakeNewsDatasetLIAR('val', tokenizer=tokenizer, path ='./')\n",
    "print('liar valset size:', valset_liar.__len__())\n"
   ]
  },
  {
   "cell_type": "code",
   "execution_count": 3,
   "metadata": {},
   "outputs": [],
   "source": [
    "# create all valloaders\n",
    "\n",
    "valloader_liar = DataLoader(valset_liar, batch_size=BATCH_SIZE, collate_fn=create_mini_batch)"
   ]
  },
  {
   "cell_type": "code",
   "execution_count": 4,
   "metadata": {},
   "outputs": [
    {
     "name": "stdout",
     "output_type": "stream",
     "text": [
      "RoBERTa valset size: 700\n",
      "RoBERTa:\n",
      "Confusion Matrix:\n",
      "[[0.7034384 0.5      ]\n",
      " [0.2965616 0.5      ]]\n",
      "\n",
      "Accuracy: 0.7028571428571428\n",
      "Precision: 0.7034383954154728\n",
      "Recall: 0.9979674796747967\n",
      "F1 Score: 0.8252100840336135\n"
     ]
    },
    {
     "data": {
      "text/plain": [
       "(0.7028571428571428,\n",
       " 0.7034383954154728,\n",
       " 0.9979674796747967,\n",
       " 0.8252100840336135)"
      ]
     },
     "execution_count": 4,
     "metadata": {},
     "output_type": "execute_result"
    },
    {
     "data": {
      "image/png": "[encoded data removed]",
      "text/plain": [
       "<Figure size 640x480 with 2 Axes>"
      ]
     },
     "metadata": {},
     "output_type": "display_data"
    }
   ],
   "source": [
    "from sklearn.metrics import confusion_matrix, ConfusionMatrixDisplay\n",
    "from sklearn.metrics import f1_score, accuracy_score, precision_score, recall_score\n",
    "\n",
    "\n",
    "def evaluate(valloader):\n",
    "    true = []\n",
    "    predictions = []\n",
    "    with torch.no_grad():\n",
    "        model.eval()\n",
    "        for data in valloader:\n",
    "            if next(model.parameters()).is_cuda:\n",
    "                data = [t.to(device) for t in data if t is not None]\n",
    "\n",
    "            tokens_tensors, segments_tensors, masks_tensors = data[:3]\n",
    "            val_outputs = model(input_ids=tokens_tensors,\n",
    "                                attention_mask=masks_tensors)\n",
    "\n",
    "            logits = val_outputs.logits\n",
    "            _, pred = torch.max(logits, 1)\n",
    "\n",
    "            labels = data[3]\n",
    "            true.extend(labels.cpu().tolist())\n",
    "            predictions.extend(pred.cpu().tolist())\n",
    "\n",
    "    cm = confusion_matrix(true, predictions, labels=[1, 0], normalize='pred')\n",
    "    print(cm)\n",
    "\n",
    "    disp = ConfusionMatrixDisplay(confusion_matrix=cm, display_labels=['Real', 'Fake'])\n",
    "    disp.plot()\n",
    "\n",
    "    accuracy = accuracy_score(true, predictions)\n",
    "    precision = precision_score(true, predictions)\n",
    "    recall = recall_score(true, predictions)\n",
    "    f1 = f1_score(true, predictions)\n",
    "    \n",
    "    print('\\nAccuracy:', accuracy)\n",
    "    print('Precision:', precision)\n",
    "    print('Recall:', recall)\n",
    "    print('F1 Score:', f1)\n",
    "    \n",
    "    return accuracy, precision, recall, f1\n",
    "\n",
    "\n",
    "# Example usage:\n",
    "valset_roberta = FakeNewsDatasetLIAR('val', tokenizer=tokenizer, path='./')\n",
    "print('RoBERTa valset size:', valset_roberta.__len__())\n",
    "valloader_roberta = DataLoader(valset_roberta, batch_size=BATCH_SIZE, collate_fn=create_mini_batch)\n",
    "\n",
    "print('RoBERTa:')\n",
    "print('Confusion Matrix:')\n",
    "evaluate(valloader_roberta)\n"
   ]
  }
 ],
 "metadata": {
  "kernelspec": {
   "display_name": "Python 3",
   "language": "python",
   "name": "python3"
  },
  "language_info": {
   "codemirror_mode": {
    "name": "ipython",
    "version": 3
   },
   "file_extension": ".py",
   "mimetype": "text/x-python",
   "name": "python",
   "nbconvert_exporter": "python",
   "pygments_lexer": "ipython3",
   "version": "3.11.5"
  }
 },
 "nbformat": 4,
 "nbformat_minor": 2
}
