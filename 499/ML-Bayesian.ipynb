{
 "cells": [
  {
   "cell_type": "code",
   "execution_count": 3,
   "id": "dec8ed6a-ea59-4583-b65f-175162257087",
   "metadata": {},
   "outputs": [],
   "source": [
    "import pandas as pd\n",
    "import numpy as np\n",
    "import matplotlib.pyplot as plt  # Import Matplotlib\n",
    "import seaborn as sns  # Import Seaborn"
   ]
  },
  {
   "cell_type": "code",
   "execution_count": 4,
   "id": "fb90cc18-0988-41f5-b471-89b70aa895a7",
   "metadata": {},
   "outputs": [],
   "source": [
    "gossipcop_fake_df = pd.read_csv('dataset/gossipcop_fake.csv')\n",
    "gossipcop_real_df = pd.read_csv('dataset/gossipcop_real.csv')\n",
    "\n",
    "politifact_fake_df = pd.read_csv('dataset/politifact_fake.csv')\n",
    "politifact_real_df = pd.read_csv('dataset/politifact_real.csv')"
   ]
  },
  {
   "cell_type": "code",
   "execution_count": 5,
   "id": "fa9a98c4-cb71-4c6c-8be6-c494e3ba2481",
   "metadata": {},
   "outputs": [],
   "source": [
    "fake_df = pd.concat([gossipcop_fake_df, politifact_fake_df])\n",
    "true_df = pd.concat([gossipcop_real_df, politifact_real_df])\n",
    "\n",
    "fake_df.index = [x for x in range(len(gossipcop_fake_df) + len(politifact_fake_df))]\n",
    "true_df.index = [x for x in range(len(gossipcop_real_df) + len(politifact_real_df))]"
   ]
  },
  {
   "cell_type": "code",
   "execution_count": 6,
   "id": "5d7ce1e6",
   "metadata": {},
   "outputs": [
    {
     "data": {
      "text/html": [
       "<div>\n",
       "<style scoped>\n",
       "    .dataframe tbody tr th:only-of-type {\n",
       "        vertical-align: middle;\n",
       "    }\n",
       "\n",
       "    .dataframe tbody tr th {\n",
       "        vertical-align: top;\n",
       "    }\n",
       "\n",
       "    .dataframe thead th {\n",
       "        text-align: right;\n",
       "    }\n",
       "</style>\n",
       "<table border=\"1\" class=\"dataframe\">\n",
       "  <thead>\n",
       "    <tr style=\"text-align: right;\">\n",
       "      <th></th>\n",
       "      <th>id</th>\n",
       "      <th>news_url</th>\n",
       "      <th>title</th>\n",
       "      <th>tweet_ids</th>\n",
       "      <th>true</th>\n",
       "    </tr>\n",
       "  </thead>\n",
       "  <tbody>\n",
       "    <tr>\n",
       "      <th>0</th>\n",
       "      <td>gossipcop-882573</td>\n",
       "      <td>https://www.brides.com/story/teen-mom-jenelle-...</td>\n",
       "      <td>Teen Mom Star Jenelle Evans' Wedding Dress Is ...</td>\n",
       "      <td>912371411146149888\\t912371528343408641\\t912372...</td>\n",
       "      <td>1</td>\n",
       "    </tr>\n",
       "    <tr>\n",
       "      <th>1</th>\n",
       "      <td>gossipcop-875924</td>\n",
       "      <td>https://www.dailymail.co.uk/tvshowbiz/article-...</td>\n",
       "      <td>Kylie Jenner refusing to discuss Tyga on Life ...</td>\n",
       "      <td>901989917546426369\\t901989992074969089\\t901990...</td>\n",
       "      <td>1</td>\n",
       "    </tr>\n",
       "    <tr>\n",
       "      <th>2</th>\n",
       "      <td>gossipcop-894416</td>\n",
       "      <td>https://en.wikipedia.org/wiki/Quinn_Perkins</td>\n",
       "      <td>Quinn Perkins</td>\n",
       "      <td>931263637246881792\\t931265332022579201\\t931265...</td>\n",
       "      <td>1</td>\n",
       "    </tr>\n",
       "    <tr>\n",
       "      <th>3</th>\n",
       "      <td>gossipcop-857248</td>\n",
       "      <td>https://www.refinery29.com/en-us/2018/03/19192...</td>\n",
       "      <td>I Tried Kim Kardashian's Butt Workout &amp; Am For...</td>\n",
       "      <td>868114761723936769\\t868122567910936576\\t868128...</td>\n",
       "      <td>1</td>\n",
       "    </tr>\n",
       "    <tr>\n",
       "      <th>4</th>\n",
       "      <td>gossipcop-884684</td>\n",
       "      <td>https://www.cnn.com/2017/10/04/entertainment/c...</td>\n",
       "      <td>Celine Dion donates concert proceeds to Vegas ...</td>\n",
       "      <td>915528047004209152\\t915529285171122176\\t915530...</td>\n",
       "      <td>1</td>\n",
       "    </tr>\n",
       "    <tr>\n",
       "      <th>...</th>\n",
       "      <td>...</td>\n",
       "      <td>...</td>\n",
       "      <td>...</td>\n",
       "      <td>...</td>\n",
       "      <td>...</td>\n",
       "    </tr>\n",
       "    <tr>\n",
       "      <th>5750</th>\n",
       "      <td>politifact14944</td>\n",
       "      <td>http://thehill.com/homenews/senate/369928-who-...</td>\n",
       "      <td>Who is affected by the government shutdown?</td>\n",
       "      <td>954602090462146560\\t954602093171609600\\t954650...</td>\n",
       "      <td>0</td>\n",
       "    </tr>\n",
       "    <tr>\n",
       "      <th>5751</th>\n",
       "      <td>politifact14071</td>\n",
       "      <td>https://web.archive.org/web/20170322070001/htt...</td>\n",
       "      <td>Lindsey Graham Threatens To Convert To Democra...</td>\n",
       "      <td>740351669834244096\\t740391312277573632\\t740474...</td>\n",
       "      <td>0</td>\n",
       "    </tr>\n",
       "    <tr>\n",
       "      <th>5752</th>\n",
       "      <td>politifact13577</td>\n",
       "      <td>http://archive.is/DQqCx</td>\n",
       "      <td>ELECTORAL COLLEGE ELECTOR COMMITS SUICIDE TO A...</td>\n",
       "      <td>810939651900907520\\t814738996706164737\\t814917...</td>\n",
       "      <td>0</td>\n",
       "    </tr>\n",
       "    <tr>\n",
       "      <th>5753</th>\n",
       "      <td>politifact13560</td>\n",
       "      <td>politicono.com/palin-calls-boycott-mall-americ...</td>\n",
       "      <td>Sarah Palin Calls To Boycott Mall Of America B...</td>\n",
       "      <td>805216591424212993\\t805222830023540736\\t805223...</td>\n",
       "      <td>0</td>\n",
       "    </tr>\n",
       "    <tr>\n",
       "      <th>5754</th>\n",
       "      <td>politifact15030</td>\n",
       "      <td>https://theglobalheadlines.net/breaking-intel-...</td>\n",
       "      <td>Account Suspended</td>\n",
       "      <td>934217740692443136\\t934217839816445952\\t934217...</td>\n",
       "      <td>0</td>\n",
       "    </tr>\n",
       "  </tbody>\n",
       "</table>\n",
       "<p>23196 rows × 5 columns</p>\n",
       "</div>"
      ],
      "text/plain": [
       "                    id                                           news_url  \\\n",
       "0     gossipcop-882573  https://www.brides.com/story/teen-mom-jenelle-...   \n",
       "1     gossipcop-875924  https://www.dailymail.co.uk/tvshowbiz/article-...   \n",
       "2     gossipcop-894416        https://en.wikipedia.org/wiki/Quinn_Perkins   \n",
       "3     gossipcop-857248  https://www.refinery29.com/en-us/2018/03/19192...   \n",
       "4     gossipcop-884684  https://www.cnn.com/2017/10/04/entertainment/c...   \n",
       "...                ...                                                ...   \n",
       "5750   politifact14944  http://thehill.com/homenews/senate/369928-who-...   \n",
       "5751   politifact14071  https://web.archive.org/web/20170322070001/htt...   \n",
       "5752   politifact13577                            http://archive.is/DQqCx   \n",
       "5753   politifact13560  politicono.com/palin-calls-boycott-mall-americ...   \n",
       "5754   politifact15030  https://theglobalheadlines.net/breaking-intel-...   \n",
       "\n",
       "                                                  title  \\\n",
       "0     Teen Mom Star Jenelle Evans' Wedding Dress Is ...   \n",
       "1     Kylie Jenner refusing to discuss Tyga on Life ...   \n",
       "2                                         Quinn Perkins   \n",
       "3     I Tried Kim Kardashian's Butt Workout & Am For...   \n",
       "4     Celine Dion donates concert proceeds to Vegas ...   \n",
       "...                                                 ...   \n",
       "5750        Who is affected by the government shutdown?   \n",
       "5751  Lindsey Graham Threatens To Convert To Democra...   \n",
       "5752  ELECTORAL COLLEGE ELECTOR COMMITS SUICIDE TO A...   \n",
       "5753  Sarah Palin Calls To Boycott Mall Of America B...   \n",
       "5754                                  Account Suspended   \n",
       "\n",
       "                                              tweet_ids  true  \n",
       "0     912371411146149888\\t912371528343408641\\t912372...     1  \n",
       "1     901989917546426369\\t901989992074969089\\t901990...     1  \n",
       "2     931263637246881792\\t931265332022579201\\t931265...     1  \n",
       "3     868114761723936769\\t868122567910936576\\t868128...     1  \n",
       "4     915528047004209152\\t915529285171122176\\t915530...     1  \n",
       "...                                                 ...   ...  \n",
       "5750  954602090462146560\\t954602093171609600\\t954650...     0  \n",
       "5751  740351669834244096\\t740391312277573632\\t740474...     0  \n",
       "5752  810939651900907520\\t814738996706164737\\t814917...     0  \n",
       "5753  805216591424212993\\t805222830023540736\\t805223...     0  \n",
       "5754  934217740692443136\\t934217839816445952\\t934217...     0  \n",
       "\n",
       "[23196 rows x 5 columns]"
      ]
     },
     "metadata": {},
     "output_type": "display_data"
    }
   ],
   "source": [
    "# add labels to both df\n",
    "true_df['true'] = 1\n",
    "fake_df['true'] = 0\n",
    "\n",
    "# concat\n",
    "df = pd.concat([true_df, fake_df])\n",
    "display(df)\n"
   ]
  },
  {
   "cell_type": "code",
   "execution_count": 7,
   "id": "69598e22",
   "metadata": {},
   "outputs": [
    {
     "name": "stdout",
     "output_type": "stream",
     "text": [
      "Number of titles: 23196\n",
      "Max length of the titles: 53\n",
      "Mean length of the titles: 11.161191584755992\n"
     ]
    }
   ],
   "source": [
    "# inspect length of news\n",
    "titles = [text for text in df.title]\n",
    "\n",
    "max_len = 0\n",
    "titles_len = []\n",
    "for title in titles:\n",
    "    titles_len.append(len(title.split()))\n",
    "    max_len = max(len(title.split()), max_len)\n",
    "    \n",
    "print('Number of titles:', len(titles))\n",
    "print('Max length of the titles:', max_len)\n",
    "print('Mean length of the titles:', np.mean(titles_len))"
   ]
  },
  {
   "cell_type": "code",
   "execution_count": 8,
   "id": "b2a099c6",
   "metadata": {},
   "outputs": [
    {
     "data": {
      "image/png": "[encoded data removed]",
      "text/plain": [
       "<Figure size 2000x500 with 1 Axes>"
      ]
     },
     "metadata": {},
     "output_type": "display_data"
    }
   ],
   "source": [
    "plt.figure(figsize=(20,5))\n",
    "g = sns.countplot(x=titles_len)\n",
    "g.set_xticklabels(g.get_xticklabels(), rotation=50)\n",
    "plt.show()"
   ]
  },
  {
   "cell_type": "code",
   "execution_count": 9,
   "id": "abbcec95",
   "metadata": {},
   "outputs": [
    {
     "data": {
      "text/html": [
       "<div>\n",
       "<style scoped>\n",
       "    .dataframe tbody tr th:only-of-type {\n",
       "        vertical-align: middle;\n",
       "    }\n",
       "\n",
       "    .dataframe tbody tr th {\n",
       "        vertical-align: top;\n",
       "    }\n",
       "\n",
       "    .dataframe thead th {\n",
       "        text-align: right;\n",
       "    }\n",
       "</style>\n",
       "<table border=\"1\" class=\"dataframe\">\n",
       "  <thead>\n",
       "    <tr style=\"text-align: right;\">\n",
       "      <th></th>\n",
       "      <th>title</th>\n",
       "      <th>true</th>\n",
       "    </tr>\n",
       "  </thead>\n",
       "  <tbody>\n",
       "    <tr>\n",
       "      <th>0</th>\n",
       "      <td>Keeping Up with the Kardashians</td>\n",
       "      <td>1</td>\n",
       "    </tr>\n",
       "    <tr>\n",
       "      <th>1</th>\n",
       "      <td>Tonya Harding</td>\n",
       "      <td>1</td>\n",
       "    </tr>\n",
       "    <tr>\n",
       "      <th>2</th>\n",
       "      <td>Gwyneth Paltrow Says Brad Pitt Threatened to ‘...</td>\n",
       "      <td>0</td>\n",
       "    </tr>\n",
       "    <tr>\n",
       "      <th>3</th>\n",
       "      <td>HGTV Life Styled</td>\n",
       "      <td>1</td>\n",
       "    </tr>\n",
       "    <tr>\n",
       "      <th>4</th>\n",
       "      <td>Selena Gomez and Demi Lovato Reunite at the ‘I...</td>\n",
       "      <td>1</td>\n",
       "    </tr>\n",
       "    <tr>\n",
       "      <th>...</th>\n",
       "      <td>...</td>\n",
       "      <td>...</td>\n",
       "    </tr>\n",
       "    <tr>\n",
       "      <th>23191</th>\n",
       "      <td>Larry English Net Worth</td>\n",
       "      <td>1</td>\n",
       "    </tr>\n",
       "    <tr>\n",
       "      <th>23192</th>\n",
       "      <td>Famous Young Hollywood Stars: Then And Now</td>\n",
       "      <td>1</td>\n",
       "    </tr>\n",
       "    <tr>\n",
       "      <th>23193</th>\n",
       "      <td>‘Aquaman': See First Look of Nicole Kidman as ...</td>\n",
       "      <td>1</td>\n",
       "    </tr>\n",
       "    <tr>\n",
       "      <th>23194</th>\n",
       "      <td>Angelina Jolie Travels to Jordan with Daughter...</td>\n",
       "      <td>1</td>\n",
       "    </tr>\n",
       "    <tr>\n",
       "      <th>23195</th>\n",
       "      <td>Kristen Bell releases first ever photos from $...</td>\n",
       "      <td>1</td>\n",
       "    </tr>\n",
       "  </tbody>\n",
       "</table>\n",
       "<p>23196 rows × 2 columns</p>\n",
       "</div>"
      ],
      "text/plain": [
       "                                                   title  true\n",
       "0                        Keeping Up with the Kardashians     1\n",
       "1                                          Tonya Harding     1\n",
       "2      Gwyneth Paltrow Says Brad Pitt Threatened to ‘...     0\n",
       "3                                       HGTV Life Styled     1\n",
       "4      Selena Gomez and Demi Lovato Reunite at the ‘I...     1\n",
       "...                                                  ...   ...\n",
       "23191                            Larry English Net Worth     1\n",
       "23192         Famous Young Hollywood Stars: Then And Now     1\n",
       "23193  ‘Aquaman': See First Look of Nicole Kidman as ...     1\n",
       "23194  Angelina Jolie Travels to Jordan with Daughter...     1\n",
       "23195  Kristen Bell releases first ever photos from $...     1\n",
       "\n",
       "[23196 rows x 2 columns]"
      ]
     },
     "metadata": {},
     "output_type": "display_data"
    }
   ],
   "source": [
    "# purify and shuffle the DataFrame\n",
    "from sklearn.utils import shuffle\n",
    "\n",
    "# purify\n",
    "df = df.iloc[:, [2,-1]]\n",
    "\n",
    "# shuffle\n",
    "df = shuffle(df).reset_index(drop=True)\n",
    "\n",
    "display(df)"
   ]
  },
  {
   "cell_type": "code",
   "execution_count": 10,
   "id": "c35054b7",
   "metadata": {},
   "outputs": [
    {
     "name": "stdout",
     "output_type": "stream",
     "text": [
      "trainset size: (18557, 2)\n",
      "valset size: (4639, 2)\n"
     ]
    }
   ],
   "source": [
    "train_df = df.sample(frac=0.8)\n",
    "val_df = df.drop(train_df.index)\n",
    "\n",
    "# reset index\n",
    "train_df = train_df.reset_index(drop=True)\n",
    "val_df = val_df.reset_index(drop=True)\n",
    "\n",
    "print('trainset size:', train_df.shape)\n",
    "print('valset size:', val_df.shape)"
   ]
  },
  {
   "cell_type": "code",
   "execution_count": 11,
   "id": "72516567",
   "metadata": {},
   "outputs": [
    {
     "data": {
      "text/plain": [
       "0"
      ]
     },
     "execution_count": 11,
     "metadata": {},
     "output_type": "execute_result"
    }
   ],
   "source": [
    "# check for null titles\n",
    "train_df['title'].isnull().sum()\n",
    "val_df['title'].isnull().sum()"
   ]
  },
  {
   "cell_type": "code",
   "execution_count": 12,
   "id": "d00c3c58",
   "metadata": {},
   "outputs": [],
   "source": [
    "# DataFrame to csv\n",
    "train_df.to_csv('train.tsv', sep='\\t', index=False)\n",
    "val_df.to_csv('val.tsv', sep='\\t', index=False)"
   ]
  },
  {
   "cell_type": "code",
   "execution_count": 13,
   "id": "ffb1bca3",
   "metadata": {},
   "outputs": [],
   "source": [
    "\n",
    "train_df = pd.read_csv('train.tsv', sep='\\t')\n",
    "val_df = pd.read_csv('val.tsv', sep='\\t')\n",
    "\n"
   ]
  },
  {
   "cell_type": "code",
   "execution_count": 14,
   "id": "9842779c",
   "metadata": {},
   "outputs": [
    {
     "data": {
      "text/plain": [
       "0"
      ]
     },
     "execution_count": 14,
     "metadata": {},
     "output_type": "execute_result"
    }
   ],
   "source": [
    "\n",
    "# no null values in dataset\n",
    "train_df['title'].isnull().sum()"
   ]
  },
  {
   "cell_type": "code",
   "execution_count": 15,
   "id": "c38d2799",
   "metadata": {},
   "outputs": [
    {
     "data": {
      "text/plain": [
       "0"
      ]
     },
     "execution_count": 15,
     "metadata": {},
     "output_type": "execute_result"
    }
   ],
   "source": [
    "val_df['title'].isnull().sum()"
   ]
  },
  {
   "cell_type": "code",
   "execution_count": 16,
   "id": "8475fc48",
   "metadata": {},
   "outputs": [
    {
     "name": "stdout",
     "output_type": "stream",
     "text": [
      "Train real news: 13975\n",
      "Train fake news: 4582\n",
      "Val real news: 3466\n",
      "Val fake news: 1173\n"
     ]
    }
   ],
   "source": [
    "print('Train real news:', train_df[train_df['true']==1].shape[0])\n",
    "print('Train fake news:', train_df[train_df['true']==0].shape[0])\n",
    "\n",
    "print('Val real news:', val_df[val_df['true']==1].shape[0])\n",
    "print('Val fake news:', val_df[val_df['true']==0].shape[0])"
   ]
  },
  {
   "cell_type": "code",
   "execution_count": 17,
   "id": "4fed5b84",
   "metadata": {},
   "outputs": [
    {
     "data": {
      "text/plain": [
       "'Pete Davidson And Ariana Grande Are Already Talking About Having Kids'"
      ]
     },
     "execution_count": 17,
     "metadata": {},
     "output_type": "execute_result"
    }
   ],
   "source": [
    "#sample real news\n",
    "train_df[train_df['true']==1].sample(n=1)['title'].iloc[0]"
   ]
  },
  {
   "cell_type": "code",
   "execution_count": 18,
   "id": "557f8893",
   "metadata": {},
   "outputs": [
    {
     "data": {
      "text/plain": [
       "'Everything Miranda Lambert and Blake Shelton Have Said About Their Divorce'"
      ]
     },
     "execution_count": 18,
     "metadata": {},
     "output_type": "execute_result"
    }
   ],
   "source": [
    "#sample fake news\n",
    "train_df[train_df['true']==0].sample(n=1)['title'].iloc[0]"
   ]
  },
  {
   "cell_type": "code",
   "execution_count": 19,
   "id": "64a66b04",
   "metadata": {},
   "outputs": [
    {
     "data": {
      "text/plain": [
       "count    18557.000000\n",
       "mean        11.148893\n",
       "std          3.979033\n",
       "min          1.000000\n",
       "25%          9.000000\n",
       "50%         11.000000\n",
       "75%         14.000000\n",
       "max         53.000000\n",
       "Name: title, dtype: float64"
      ]
     },
     "execution_count": 19,
     "metadata": {},
     "output_type": "execute_result"
    }
   ],
   "source": [
    "# word count in news\n",
    "word_counts_train = train_df['title'].apply(lambda x: len(x.split()))\n",
    "word_counts_train.describe()"
   ]
  },
  {
   "cell_type": "code",
   "execution_count": 20,
   "id": "841d254f",
   "metadata": {},
   "outputs": [
    {
     "data": {
      "text/plain": [
       "count    4639.000000\n",
       "mean       11.210390\n",
       "std         3.972378\n",
       "min         1.000000\n",
       "25%         9.000000\n",
       "50%        11.000000\n",
       "75%        14.000000\n",
       "max        34.000000\n",
       "Name: title, dtype: float64"
      ]
     },
     "execution_count": 20,
     "metadata": {},
     "output_type": "execute_result"
    }
   ],
   "source": [
    "word_counts_val = val_df['title'].apply(lambda x: len(x.split()))\n",
    "word_counts_val.describe()"
   ]
  },
  {
   "cell_type": "code",
   "execution_count": 21,
   "id": "ecc7b5bf",
   "metadata": {},
   "outputs": [
    {
     "name": "stderr",
     "output_type": "stream",
     "text": [
      "[nltk_data] Downloading package punkt to\n",
      "[nltk_data]     C:\\Users\\Ishraq\\AppData\\Roaming\\nltk_data...\n",
      "[nltk_data]   Package punkt is already up-to-date!\n",
      "[nltk_data] Downloading package stopwords to\n",
      "[nltk_data]     C:\\Users\\Ishraq\\AppData\\Roaming\\nltk_data...\n",
      "[nltk_data]   Package stopwords is already up-to-date!\n",
      "[nltk_data] Downloading package wordnet to\n",
      "[nltk_data]     C:\\Users\\Ishraq\\AppData\\Roaming\\nltk_data...\n",
      "[nltk_data]   Package wordnet is already up-to-date!\n"
     ]
    }
   ],
   "source": [
    "import re\n",
    "import nltk\n",
    "nltk.download('punkt')\n",
    "nltk.download('stopwords')\n",
    "nltk.download('wordnet')\n",
    "from nltk.corpus import stopwords\n",
    "from nltk.tokenize import word_tokenize\n",
    "from nltk.stem import WordNetLemmatizer"
   ]
  },
  {
   "cell_type": "code",
   "execution_count": 22,
   "id": "8d7f344e",
   "metadata": {},
   "outputs": [],
   "source": [
    "stop_words = stopwords.words('english')\n",
    "stop_words.remove('not')\n",
    "lemmatizer = WordNetLemmatizer()"
   ]
  },
  {
   "cell_type": "code",
   "execution_count": 23,
   "id": "a5804ae8",
   "metadata": {},
   "outputs": [],
   "source": [
    "def data_preprocessing(review):\n",
    "    \n",
    "    # data cleaning\n",
    "    review = re.sub(re.compile('<.*?>'), '', review) # remove html tags\n",
    "    review = re.sub('[^A-Za-z0-9]+', ' ', review) # taking only words\n",
    "    \n",
    "    # lowercase\n",
    "    review = review.lower()\n",
    "    \n",
    "    # tokenization\n",
    "    tokens = nltk.word_tokenize(review)\n",
    "    \n",
    "    # stop word removal\n",
    "    review = [word for word in tokens if word not in stop_words]\n",
    "    \n",
    "    # lemmatization\n",
    "    review = [lemmatizer.lemmatize(word) for word in review]\n",
    "    \n",
    "    # join words in preprocessed review\n",
    "    review = ' '.join(review)\n",
    "    \n",
    "    return review"
   ]
  },
  {
   "cell_type": "code",
   "execution_count": 24,
   "id": "2fc5046c",
   "metadata": {},
   "outputs": [
    {
     "name": "stderr",
     "output_type": "stream",
     "text": [
      "[nltk_data] Downloading package omw-1.4 to\n",
      "[nltk_data]     C:\\Users\\Ishraq\\AppData\\Roaming\\nltk_data...\n",
      "[nltk_data]   Package omw-1.4 is already up-to-date!\n"
     ]
    },
    {
     "data": {
      "text/plain": [
       "True"
      ]
     },
     "execution_count": 24,
     "metadata": {},
     "output_type": "execute_result"
    }
   ],
   "source": [
    "nltk.download('omw-1.4')"
   ]
  },
  {
   "cell_type": "code",
   "execution_count": 25,
   "id": "067d162a",
   "metadata": {},
   "outputs": [
    {
     "data": {
      "text/html": [
       "<div>\n",
       "<style scoped>\n",
       "    .dataframe tbody tr th:only-of-type {\n",
       "        vertical-align: middle;\n",
       "    }\n",
       "\n",
       "    .dataframe tbody tr th {\n",
       "        vertical-align: top;\n",
       "    }\n",
       "\n",
       "    .dataframe thead th {\n",
       "        text-align: right;\n",
       "    }\n",
       "</style>\n",
       "<table border=\"1\" class=\"dataframe\">\n",
       "  <thead>\n",
       "    <tr style=\"text-align: right;\">\n",
       "      <th></th>\n",
       "      <th>title</th>\n",
       "      <th>true</th>\n",
       "      <th>preprocessed_title</th>\n",
       "    </tr>\n",
       "  </thead>\n",
       "  <tbody>\n",
       "    <tr>\n",
       "      <th>0</th>\n",
       "      <td>Watch the moment a disappointed groom mutters ...</td>\n",
       "      <td>1</td>\n",
       "      <td>watch moment disappointed groom mutter oh see ...</td>\n",
       "    </tr>\n",
       "    <tr>\n",
       "      <th>1</th>\n",
       "      <td>Camila Mendes Sends Condolences to High School...</td>\n",
       "      <td>1</td>\n",
       "      <td>camila mendes sends condolence high school sho...</td>\n",
       "    </tr>\n",
       "    <tr>\n",
       "      <th>2</th>\n",
       "      <td>Ryan Seacrest Tapped as Kelly Ripa’s Permanent...</td>\n",
       "      <td>1</td>\n",
       "      <td>ryan seacrest tapped kelly ripa permanent co h...</td>\n",
       "    </tr>\n",
       "    <tr>\n",
       "      <th>3</th>\n",
       "      <td>Kate Middleton First Days With Baby 3</td>\n",
       "      <td>0</td>\n",
       "      <td>kate middleton first day baby 3</td>\n",
       "    </tr>\n",
       "    <tr>\n",
       "      <th>4</th>\n",
       "      <td>Nicole Williams weds Larry English in Laguna B...</td>\n",
       "      <td>1</td>\n",
       "      <td>nicole williams wed larry english laguna beach</td>\n",
       "    </tr>\n",
       "    <tr>\n",
       "      <th>...</th>\n",
       "      <td>...</td>\n",
       "      <td>...</td>\n",
       "      <td>...</td>\n",
       "    </tr>\n",
       "    <tr>\n",
       "      <th>18552</th>\n",
       "      <td>All of Khloe Kardashian's glorious baby bump p...</td>\n",
       "      <td>1</td>\n",
       "      <td>khloe kardashian glorious baby bump photo far</td>\n",
       "    </tr>\n",
       "    <tr>\n",
       "      <th>18553</th>\n",
       "      <td>See Kathie Lee Gifford debut her new song ‘He ...</td>\n",
       "      <td>0</td>\n",
       "      <td>see kathie lee gifford debut new song saw jesu...</td>\n",
       "    </tr>\n",
       "    <tr>\n",
       "      <th>18554</th>\n",
       "      <td>Did Karlie Kloss Just Reveal Princess Beatrice...</td>\n",
       "      <td>1</td>\n",
       "      <td>karlie kloss reveal princess beatrice secret i...</td>\n",
       "    </tr>\n",
       "    <tr>\n",
       "      <th>18555</th>\n",
       "      <td>Image Overhaul! Kim Hiring New Team To Seem Mo...</td>\n",
       "      <td>0</td>\n",
       "      <td>image overhaul kim hiring new team seem political</td>\n",
       "    </tr>\n",
       "    <tr>\n",
       "      <th>18556</th>\n",
       "      <td>‘Girl Meets World’ Canceled: Disney Channel’s ...</td>\n",
       "      <td>1</td>\n",
       "      <td>girl meet world canceled disney channel boy me...</td>\n",
       "    </tr>\n",
       "  </tbody>\n",
       "</table>\n",
       "<p>18557 rows × 3 columns</p>\n",
       "</div>"
      ],
      "text/plain": [
       "                                                   title  true  \\\n",
       "0      Watch the moment a disappointed groom mutters ...     1   \n",
       "1      Camila Mendes Sends Condolences to High School...     1   \n",
       "2      Ryan Seacrest Tapped as Kelly Ripa’s Permanent...     1   \n",
       "3                  Kate Middleton First Days With Baby 3     0   \n",
       "4      Nicole Williams weds Larry English in Laguna B...     1   \n",
       "...                                                  ...   ...   \n",
       "18552  All of Khloe Kardashian's glorious baby bump p...     1   \n",
       "18553  See Kathie Lee Gifford debut her new song ‘He ...     0   \n",
       "18554  Did Karlie Kloss Just Reveal Princess Beatrice...     1   \n",
       "18555  Image Overhaul! Kim Hiring New Team To Seem Mo...     0   \n",
       "18556  ‘Girl Meets World’ Canceled: Disney Channel’s ...     1   \n",
       "\n",
       "                                      preprocessed_title  \n",
       "0      watch moment disappointed groom mutter oh see ...  \n",
       "1      camila mendes sends condolence high school sho...  \n",
       "2      ryan seacrest tapped kelly ripa permanent co h...  \n",
       "3                        kate middleton first day baby 3  \n",
       "4         nicole williams wed larry english laguna beach  \n",
       "...                                                  ...  \n",
       "18552      khloe kardashian glorious baby bump photo far  \n",
       "18553  see kathie lee gifford debut new song saw jesu...  \n",
       "18554  karlie kloss reveal princess beatrice secret i...  \n",
       "18555  image overhaul kim hiring new team seem political  \n",
       "18556  girl meet world canceled disney channel boy me...  \n",
       "\n",
       "[18557 rows x 3 columns]"
      ]
     },
     "execution_count": 25,
     "metadata": {},
     "output_type": "execute_result"
    }
   ],
   "source": [
    "train_df['preprocessed_title'] = train_df['title'].apply(lambda review: data_preprocessing(review))\n",
    "train_df"
   ]
  },
  {
   "cell_type": "code",
   "execution_count": 26,
   "id": "58cbc572",
   "metadata": {},
   "outputs": [
    {
     "data": {
      "text/html": [
       "<div>\n",
       "<style scoped>\n",
       "    .dataframe tbody tr th:only-of-type {\n",
       "        vertical-align: middle;\n",
       "    }\n",
       "\n",
       "    .dataframe tbody tr th {\n",
       "        vertical-align: top;\n",
       "    }\n",
       "\n",
       "    .dataframe thead th {\n",
       "        text-align: right;\n",
       "    }\n",
       "</style>\n",
       "<table border=\"1\" class=\"dataframe\">\n",
       "  <thead>\n",
       "    <tr style=\"text-align: right;\">\n",
       "      <th></th>\n",
       "      <th>title</th>\n",
       "      <th>true</th>\n",
       "      <th>preprocessed_title</th>\n",
       "    </tr>\n",
       "  </thead>\n",
       "  <tbody>\n",
       "    <tr>\n",
       "      <th>0</th>\n",
       "      <td>Angelina Jolie Is Secretly Dating Real Estate ...</td>\n",
       "      <td>0</td>\n",
       "      <td>angelina jolie secretly dating real estate agent</td>\n",
       "    </tr>\n",
       "    <tr>\n",
       "      <th>1</th>\n",
       "      <td>Tinsley Mortimer Reveals Her Current Status wi...</td>\n",
       "      <td>1</td>\n",
       "      <td>tinsley mortimer reveals current status scott ...</td>\n",
       "    </tr>\n",
       "    <tr>\n",
       "      <th>2</th>\n",
       "      <td>Jeff Goldblum and Emilie Livingston Welcome So...</td>\n",
       "      <td>1</td>\n",
       "      <td>jeff goldblum emilie livingston welcome son river</td>\n",
       "    </tr>\n",
       "    <tr>\n",
       "      <th>3</th>\n",
       "      <td>Inside Jennifer Lopez and Alex Rodriguez' lavi...</td>\n",
       "      <td>0</td>\n",
       "      <td>inside jennifer lopez alex rodriguez lavish ba...</td>\n",
       "    </tr>\n",
       "    <tr>\n",
       "      <th>4</th>\n",
       "      <td>How a failed blind date led Mila Kunis to love...</td>\n",
       "      <td>1</td>\n",
       "      <td>failed blind date led mila kunis love ashton k...</td>\n",
       "    </tr>\n",
       "    <tr>\n",
       "      <th>...</th>\n",
       "      <td>...</td>\n",
       "      <td>...</td>\n",
       "      <td>...</td>\n",
       "    </tr>\n",
       "    <tr>\n",
       "      <th>4634</th>\n",
       "      <td>World's most popular candy to be removed from ...</td>\n",
       "      <td>0</td>\n",
       "      <td>world popular candy removed shelf october 2017</td>\n",
       "    </tr>\n",
       "    <tr>\n",
       "      <th>4635</th>\n",
       "      <td>Princess Eugenie shows off her stunning engage...</td>\n",
       "      <td>1</td>\n",
       "      <td>princess eugenie show stunning engagement ring...</td>\n",
       "    </tr>\n",
       "    <tr>\n",
       "      <th>4636</th>\n",
       "      <td>Madonna Faced ‘Uncomfortable Questions’ Over M...</td>\n",
       "      <td>0</td>\n",
       "      <td>madonna faced uncomfortable question malawi ad...</td>\n",
       "    </tr>\n",
       "    <tr>\n",
       "      <th>4637</th>\n",
       "      <td>Larry English Net Worth</td>\n",
       "      <td>1</td>\n",
       "      <td>larry english net worth</td>\n",
       "    </tr>\n",
       "    <tr>\n",
       "      <th>4638</th>\n",
       "      <td>Angelina Jolie Travels to Jordan with Daughter...</td>\n",
       "      <td>1</td>\n",
       "      <td>angelina jolie travel jordan daughter shiloh z...</td>\n",
       "    </tr>\n",
       "  </tbody>\n",
       "</table>\n",
       "<p>4639 rows × 3 columns</p>\n",
       "</div>"
      ],
      "text/plain": [
       "                                                  title  true  \\\n",
       "0     Angelina Jolie Is Secretly Dating Real Estate ...     0   \n",
       "1     Tinsley Mortimer Reveals Her Current Status wi...     1   \n",
       "2     Jeff Goldblum and Emilie Livingston Welcome So...     1   \n",
       "3     Inside Jennifer Lopez and Alex Rodriguez' lavi...     0   \n",
       "4     How a failed blind date led Mila Kunis to love...     1   \n",
       "...                                                 ...   ...   \n",
       "4634  World's most popular candy to be removed from ...     0   \n",
       "4635  Princess Eugenie shows off her stunning engage...     1   \n",
       "4636  Madonna Faced ‘Uncomfortable Questions’ Over M...     0   \n",
       "4637                            Larry English Net Worth     1   \n",
       "4638  Angelina Jolie Travels to Jordan with Daughter...     1   \n",
       "\n",
       "                                     preprocessed_title  \n",
       "0      angelina jolie secretly dating real estate agent  \n",
       "1     tinsley mortimer reveals current status scott ...  \n",
       "2     jeff goldblum emilie livingston welcome son river  \n",
       "3     inside jennifer lopez alex rodriguez lavish ba...  \n",
       "4     failed blind date led mila kunis love ashton k...  \n",
       "...                                                 ...  \n",
       "4634     world popular candy removed shelf october 2017  \n",
       "4635  princess eugenie show stunning engagement ring...  \n",
       "4636  madonna faced uncomfortable question malawi ad...  \n",
       "4637                            larry english net worth  \n",
       "4638  angelina jolie travel jordan daughter shiloh z...  \n",
       "\n",
       "[4639 rows x 3 columns]"
      ]
     },
     "execution_count": 26,
     "metadata": {},
     "output_type": "execute_result"
    }
   ],
   "source": [
    "val_df['preprocessed_title'] = val_df['title'].apply(lambda review: data_preprocessing(review))\n",
    "val_df\n"
   ]
  },
  {
   "cell_type": "code",
   "execution_count": 27,
   "id": "c00338f7",
   "metadata": {},
   "outputs": [
    {
     "name": "stdout",
     "output_type": "stream",
     "text": [
      "FakeNewsNet length: 4639\n"
     ]
    }
   ],
   "source": [
    "print('FakeNewsNet length:', len(val_df))"
   ]
  },
  {
   "cell_type": "code",
   "execution_count": 28,
   "id": "65e1fd50",
   "metadata": {},
   "outputs": [
    {
     "name": "stdout",
     "output_type": "stream",
     "text": [
      "Train data: (18557,) (18557,)\n",
      "Test data: (4639,) (4639,)\n"
     ]
    }
   ],
   "source": [
    "X_train = train_df['preprocessed_title']\n",
    "X_val = val_df['preprocessed_title']\n",
    "\n",
    "y_train = train_df['true']\n",
    "y_val = val_df['true']\n",
    "\n",
    "print('Train data:', X_train.shape, y_train.shape)\n",
    "print('Test data:', X_val.shape, y_val.shape)"
   ]
  },
  {
   "cell_type": "code",
   "execution_count": 29,
   "id": "fe8ca382",
   "metadata": {},
   "outputs": [
    {
     "name": "stdout",
     "output_type": "stream",
     "text": [
      "X_train_new_tfidf shape: (18557, 2706)\n",
      "X_test_news_tfidf shape: (4639, 2706)\n"
     ]
    }
   ],
   "source": [
    "# vectorizing text data: TFIDF\n",
    "from sklearn.feature_extraction.text import TfidfVectorizer\n",
    "\n",
    "vectorizer = TfidfVectorizer(min_df=10)\n",
    "\n",
    "X_train_news_tfidf = vectorizer.fit_transform(X_train)\n",
    "X_val_news_tfidf = vectorizer.transform(X_val)\n",
    "\n",
    "print('X_train_new_tfidf shape:', X_train_news_tfidf.shape)\n",
    "print('X_test_news_tfidf shape:', X_val_news_tfidf.shape)"
   ]
  },
  {
   "cell_type": "code",
   "execution_count": 33,
   "id": "41d68bba",
   "metadata": {},
   "outputs": [
    {
     "name": "stdout",
     "output_type": "stream",
     "text": [
      "|   iter    |  target   |   alpha   |\n",
      "-------------------------------------\n",
      "| \u001b[0m1        \u001b[0m | \u001b[0m0.8908   \u001b[0m | \u001b[0m0.3808   \u001b[0m |\n",
      "| \u001b[0m2        \u001b[0m | \u001b[0m0.8888   \u001b[0m | \u001b[0m0.9512   \u001b[0m |\n",
      "| \u001b[0m3        \u001b[0m | \u001b[0m0.8894   \u001b[0m | \u001b[0m0.7347   \u001b[0m |\n",
      "| \u001b[0m4        \u001b[0m | \u001b[0m0.89     \u001b[0m | \u001b[0m0.6027   \u001b[0m |\n",
      "| \u001b[0m5        \u001b[0m | \u001b[0m0.8901   \u001b[0m | \u001b[0m0.1645   \u001b[0m |\n",
      "| \u001b[0m6        \u001b[0m | \u001b[0m0.8903   \u001b[0m | \u001b[0m0.3124   \u001b[0m |\n",
      "| \u001b[0m7        \u001b[0m | \u001b[0m0.8907   \u001b[0m | \u001b[0m0.3765   \u001b[0m |\n",
      "| \u001b[0m8        \u001b[0m | \u001b[0m0.8903   \u001b[0m | \u001b[0m0.3124   \u001b[0m |\n",
      "| \u001b[0m9        \u001b[0m | \u001b[0m0.8904   \u001b[0m | \u001b[0m0.4127   \u001b[0m |\n",
      "| \u001b[0m10       \u001b[0m | \u001b[0m0.8902   \u001b[0m | \u001b[0m0.2551   \u001b[0m |\n",
      "| \u001b[0m11       \u001b[0m | \u001b[0m0.889    \u001b[0m | \u001b[0m0.06586  \u001b[0m |\n",
      "| \u001b[0m12       \u001b[0m | \u001b[0m0.8897   \u001b[0m | \u001b[0m0.4993   \u001b[0m |\n",
      "| \u001b[0m13       \u001b[0m | \u001b[0m0.8891   \u001b[0m | \u001b[0m0.8378   \u001b[0m |\n",
      "| \u001b[0m14       \u001b[0m | \u001b[0m0.8906   \u001b[0m | \u001b[0m0.21     \u001b[0m |\n",
      "| \u001b[0m15       \u001b[0m | \u001b[0m0.8897   \u001b[0m | \u001b[0m0.6591   \u001b[0m |\n",
      "=====================================\n"
     ]
    },
    {
     "data": {
      "image/png": "[encoded data removed]",
      "text/plain": [
       "<Figure size 640x480 with 2 Axes>"
      ]
     },
     "metadata": {},
     "output_type": "display_data"
    },
    {
     "name": "stdout",
     "output_type": "stream",
     "text": [
      "Best alpha: 0.3807947176588889\n",
      "Accuracy: 0.824315585255443\n",
      "Precision: 0.8371097683786506\n",
      "Recall: 0.9519038076152304\n",
      "F1-Score: 0.8908238446081714\n"
     ]
    }
   ],
   "source": [
    "import matplotlib.pyplot as plt\n",
    "import seaborn as sns\n",
    "from sklearn.naive_bayes import MultinomialNB\n",
    "from sklearn.metrics import accuracy_score, precision_score, recall_score, f1_score, confusion_matrix\n",
    "from bayes_opt import BayesianOptimization\n",
    "\n",
    "\n",
    "# Define the Naive Bayes model training and evaluation function\n",
    "def evaluate_naive_bayes(alpha):\n",
    "    clf = MultinomialNB(alpha=alpha)\n",
    "    clf.fit(X_train_news_tfidf, y_train)\n",
    "\n",
    "    # Predictions on the validation set\n",
    "    y_pred = clf.predict(X_val_news_tfidf)\n",
    "\n",
    "    # Calculate evaluation metrics\n",
    "    accuracy = accuracy_score(y_val, y_pred)\n",
    "    precision = precision_score(y_val, y_pred)\n",
    "    recall = recall_score(y_val, y_pred)\n",
    "    f1 = f1_score(y_val, y_pred)\n",
    "\n",
    "    return f1\n",
    "\n",
    "# Bayesian optimization for alpha (smoothing parameter)\n",
    "pbounds = {'alpha': (0.01, 1.0)}\n",
    "optimizer = BayesianOptimization(\n",
    "    f=evaluate_naive_bayes,\n",
    "    pbounds=pbounds,\n",
    "    verbose=2,\n",
    "    random_state=42,\n",
    ")\n",
    "\n",
    "optimizer.maximize(init_points=5, n_iter=10)\n",
    "\n",
    "# Get the best hyperparameters\n",
    "best_alpha = optimizer.max['params']['alpha']\n",
    "\n",
    "# Train the final model with the best hyperparameters\n",
    "clf = MultinomialNB(alpha=best_alpha)\n",
    "clf.fit(X_train_news_tfidf, y_train)\n",
    "\n",
    "# Predictions on the validation set\n",
    "y_pred = clf.predict(X_val_news_tfidf)\n",
    "\n",
    "# Calculate evaluation metrics\n",
    "accuracy = accuracy_score(y_val, y_pred)\n",
    "precision = precision_score(y_val, y_pred)\n",
    "recall = recall_score(y_val, y_pred)\n",
    "f1 = f1_score(y_val, y_pred)\n",
    "\n",
    "# Plot the confusion matrix\n",
    "cm = confusion_matrix(y_val, y_pred)\n",
    "sns.heatmap(cm, annot=True, fmt='d', cmap='Blues', xticklabels=['Fake', 'Real'], yticklabels=['Fake', 'Real'])\n",
    "plt.xlabel('Predicted Label')\n",
    "plt.ylabel('True Label')\n",
    "plt.title('Confusion Matrix')\n",
    "plt.show()\n",
    "\n",
    "# Print evaluation metrics\n",
    "print('Best alpha:', best_alpha)\n",
    "print('Accuracy:', accuracy)\n",
    "print('Precision:', precision)\n",
    "print('Recall:', recall)\n",
    "print('F1-Score:', f1)\n",
    "\n"
   ]
  },
  {
   "cell_type": "code",
   "execution_count": 35,
   "id": "5d587ec0",
   "metadata": {},
   "outputs": [
    {
     "name": "stdout",
     "output_type": "stream",
     "text": [
      "|   iter    |  target   | max_depth | min_sa... | min_sa... | n_esti... |\n",
      "-------------------------------------------------------------------------\n",
      "| \u001b[0m1        \u001b[0m | \u001b[0m0.8737   \u001b[0m | \u001b[0m21.85    \u001b[0m | \u001b[0m9.556    \u001b[0m | \u001b[0m15.18    \u001b[0m | \u001b[0m123.7    \u001b[0m |\n",
      "| \u001b[0m2        \u001b[0m | \u001b[0m0.8672   \u001b[0m | \u001b[0m12.02    \u001b[0m | \u001b[0m2.404    \u001b[0m | \u001b[0m3.046    \u001b[0m | \u001b[0m174.6    \u001b[0m |\n",
      "| \u001b[95m3        \u001b[0m | \u001b[95m0.8781   \u001b[0m | \u001b[95m32.05    \u001b[0m | \u001b[95m7.373    \u001b[0m | \u001b[95m2.371    \u001b[0m | \u001b[95m194.3    \u001b[0m |\n",
      "| \u001b[95m4        \u001b[0m | \u001b[95m0.8805   \u001b[0m | \u001b[95m42.46    \u001b[0m | \u001b[95m2.911    \u001b[0m | \u001b[95m5.273    \u001b[0m | \u001b[95m44.85    \u001b[0m |\n",
      "| \u001b[0m5        \u001b[0m | \u001b[0m0.8734   \u001b[0m | \u001b[0m18.69    \u001b[0m | \u001b[0m5.723    \u001b[0m | \u001b[0m9.775    \u001b[0m | \u001b[0m65.33    \u001b[0m |\n",
      "| \u001b[0m6        \u001b[0m | \u001b[0m0.8785   \u001b[0m | \u001b[0m40.99    \u001b[0m | \u001b[0m4.55     \u001b[0m | \u001b[0m4.871    \u001b[0m | \u001b[0m43.46    \u001b[0m |\n",
      "| \u001b[95m7        \u001b[0m | \u001b[95m0.8846   \u001b[0m | \u001b[95m49.46    \u001b[0m | \u001b[95m1.0      \u001b[0m | \u001b[95m7.54     \u001b[0m | \u001b[95m48.95    \u001b[0m |\n",
      "| \u001b[95m8        \u001b[0m | \u001b[95m0.8846   \u001b[0m | \u001b[95m50.0     \u001b[0m | \u001b[95m1.0      \u001b[0m | \u001b[95m20.0     \u001b[0m | \u001b[95m54.78    \u001b[0m |\n",
      "| \u001b[95m9        \u001b[0m | \u001b[95m0.8852   \u001b[0m | \u001b[95m50.0     \u001b[0m | \u001b[95m1.0      \u001b[0m | \u001b[95m5.211    \u001b[0m | \u001b[95m67.85    \u001b[0m |\n",
      "| \u001b[0m10       \u001b[0m | \u001b[0m0.8806   \u001b[0m | \u001b[0m49.7     \u001b[0m | \u001b[0m5.152    \u001b[0m | \u001b[0m18.06    \u001b[0m | \u001b[0m89.34    \u001b[0m |\n",
      "| \u001b[0m11       \u001b[0m | \u001b[0m0.8824   \u001b[0m | \u001b[0m50.0     \u001b[0m | \u001b[0m1.0      \u001b[0m | \u001b[0m20.0     \u001b[0m | \u001b[0m10.0     \u001b[0m |\n",
      "| \u001b[0m12       \u001b[0m | \u001b[0m0.8596   \u001b[0m | \u001b[0m5.249    \u001b[0m | \u001b[0m1.0      \u001b[0m | \u001b[0m20.0     \u001b[0m | \u001b[0m10.0     \u001b[0m |\n",
      "| \u001b[0m13       \u001b[0m | \u001b[0m0.8849   \u001b[0m | \u001b[0m50.0     \u001b[0m | \u001b[0m1.0      \u001b[0m | \u001b[0m20.0     \u001b[0m | \u001b[0m200.0    \u001b[0m |\n",
      "| \u001b[0m14       \u001b[0m | \u001b[0m0.885    \u001b[0m | \u001b[0m50.0     \u001b[0m | \u001b[0m1.0      \u001b[0m | \u001b[0m20.0     \u001b[0m | \u001b[0m168.4    \u001b[0m |\n",
      "| \u001b[0m15       \u001b[0m | \u001b[0m0.8805   \u001b[0m | \u001b[0m49.41    \u001b[0m | \u001b[0m3.146    \u001b[0m | \u001b[0m3.212    \u001b[0m | \u001b[0m144.9    \u001b[0m |\n",
      "=========================================================================\n"
     ]
    },
    {
     "data": {
      "image/png": "[encoded data removed]",
      "text/plain": [
       "<Figure size 640x480 with 2 Axes>"
      ]
     },
     "metadata": {},
     "output_type": "display_data"
    },
    {
     "name": "stdout",
     "output_type": "stream",
     "text": [
      "Best hyperparameters: {'max_depth': 50.0, 'min_samples_leaf': 1.0, 'min_samples_split': 5.21075871587798, 'n_estimators': 67.84631349667295}\n",
      "Accuracy: 0.8109506359129123\n",
      "Precision: 0.8154848046309696\n",
      "Recall: 0.9679358717434869\n",
      "F1-Score: 0.8851943971724048\n"
     ]
    }
   ],
   "source": [
    "\n",
    "import matplotlib.pyplot as plt\n",
    "import seaborn as sns\n",
    "from sklearn.ensemble import RandomForestClassifier\n",
    "from sklearn.metrics import accuracy_score, precision_score, recall_score, f1_score, confusion_matrix\n",
    "from bayes_opt import BayesianOptimization\n",
    "\n",
    "\n",
    "\n",
    "# Define the RandomForestClassifier model training and evaluation function\n",
    "def evaluate_random_forest(n_estimators, max_depth, min_samples_split, min_samples_leaf):\n",
    "    clf = RandomForestClassifier(\n",
    "        n_estimators=int(n_estimators),\n",
    "        max_depth=int(max_depth),\n",
    "        min_samples_split=int(min_samples_split),\n",
    "        min_samples_leaf=int(min_samples_leaf),\n",
    "        random_state=42,\n",
    "    )\n",
    "\n",
    "    clf.fit(X_train_news_tfidf, y_train)\n",
    "\n",
    "    # Predictions on the validation set\n",
    "    y_pred = clf.predict(X_val_news_tfidf)\n",
    "\n",
    "    # Calculate evaluation metrics\n",
    "    accuracy = accuracy_score(y_val, y_pred)\n",
    "    precision = precision_score(y_val, y_pred)\n",
    "    recall = recall_score(y_val, y_pred)\n",
    "    f1 = f1_score(y_val, y_pred)\n",
    "\n",
    "    return f1\n",
    "\n",
    "# Bayesian optimization for RandomForestClassifier hyperparameters\n",
    "pbounds = {'n_estimators': (10, 200),\n",
    "           'max_depth': (5, 50),\n",
    "           'min_samples_split': (2, 20),\n",
    "           'min_samples_leaf': (1, 10)}\n",
    "\n",
    "optimizer = BayesianOptimization(\n",
    "    f=evaluate_random_forest,\n",
    "    pbounds=pbounds,\n",
    "    verbose=2,\n",
    "    random_state=42,\n",
    ")\n",
    "\n",
    "optimizer.maximize(init_points=5, n_iter=10)\n",
    "\n",
    "# Get the best hyperparameters\n",
    "best_params = optimizer.max['params']\n",
    "\n",
    "# Train the final model with the best hyperparameters\n",
    "clf = RandomForestClassifier(\n",
    "    n_estimators=int(best_params['n_estimators']),\n",
    "    max_depth=int(best_params['max_depth']),\n",
    "    min_samples_split=int(best_params['min_samples_split']),\n",
    "    min_samples_leaf=int(best_params['min_samples_leaf']),\n",
    "    random_state=42,\n",
    ")\n",
    "\n",
    "clf.fit(X_train_news_tfidf, y_train)\n",
    "\n",
    "# Predictions on the validation set\n",
    "y_pred = clf.predict(X_val_news_tfidf)\n",
    "\n",
    "# Calculate evaluation metrics\n",
    "accuracy = accuracy_score(y_val, y_pred)\n",
    "precision = precision_score(y_val, y_pred)\n",
    "recall = recall_score(y_val, y_pred)\n",
    "f1 = f1_score(y_val, y_pred)\n",
    "\n",
    "# Plot the confusion matrix\n",
    "cm = confusion_matrix(y_val, y_pred)\n",
    "sns.heatmap(cm, annot=True, fmt='d', cmap='Blues', xticklabels=['Fake', 'Real'], yticklabels=['Fake', 'Real'])\n",
    "plt.xlabel('Predicted Label')\n",
    "plt.ylabel('True Label')\n",
    "plt.title('Confusion Matrix')\n",
    "plt.show()\n",
    "\n",
    "# Print evaluation metrics\n",
    "print('Best hyperparameters:', best_params)\n",
    "print('Accuracy:', accuracy)\n",
    "print('Precision:', precision)\n",
    "print('Recall:', recall)\n",
    "print('F1-Score:', f1)\n"
   ]
  },
  {
   "cell_type": "code",
   "execution_count": 36,
   "id": "69c2dc6c",
   "metadata": {},
   "outputs": [
    {
     "name": "stdout",
     "output_type": "stream",
     "text": [
      "|   iter    |  target   | learni... | n_esti... |\n",
      "-------------------------------------------------\n",
      "| \u001b[0m1        \u001b[0m | \u001b[0m0.8817   \u001b[0m | \u001b[0m0.3808   \u001b[0m | \u001b[0m190.6    \u001b[0m |\n",
      "| \u001b[0m2        \u001b[0m | \u001b[0m0.8799   \u001b[0m | \u001b[0m0.7347   \u001b[0m | \u001b[0m123.7    \u001b[0m |\n",
      "| \u001b[0m3        \u001b[0m | \u001b[0m0.8694   \u001b[0m | \u001b[0m0.1645   \u001b[0m | \u001b[0m39.64    \u001b[0m |\n",
      "| \u001b[0m4        \u001b[0m | \u001b[0m0.8717   \u001b[0m | \u001b[0m0.0675   \u001b[0m | \u001b[0m174.6    \u001b[0m |\n",
      "| \u001b[95m5        \u001b[0m | \u001b[95m0.8823   \u001b[0m | \u001b[95m0.6051   \u001b[0m | \u001b[95m144.5    \u001b[0m |\n",
      "| \u001b[0m6        \u001b[0m | \u001b[0m0.8821   \u001b[0m | \u001b[0m0.6141   \u001b[0m | \u001b[0m144.6    \u001b[0m |\n",
      "| \u001b[0m7        \u001b[0m | \u001b[0m0.8777   \u001b[0m | \u001b[0m0.1836   \u001b[0m | \u001b[0m142.3    \u001b[0m |\n",
      "| \u001b[0m8        \u001b[0m | \u001b[0m0.8811   \u001b[0m | \u001b[0m0.332    \u001b[0m | \u001b[0m192.5    \u001b[0m |\n",
      "| \u001b[0m9        \u001b[0m | \u001b[0m0.8797   \u001b[0m | \u001b[0m0.9889   \u001b[0m | \u001b[0m188.5    \u001b[0m |\n",
      "| \u001b[0m10       \u001b[0m | \u001b[0m0.8798   \u001b[0m | \u001b[0m0.9507   \u001b[0m | \u001b[0m194.9    \u001b[0m |\n",
      "| \u001b[0m11       \u001b[0m | \u001b[0m0.882    \u001b[0m | \u001b[0m0.5907   \u001b[0m | \u001b[0m121.0    \u001b[0m |\n",
      "| \u001b[0m12       \u001b[0m | \u001b[0m0.8795   \u001b[0m | \u001b[0m0.7689   \u001b[0m | \u001b[0m119.0    \u001b[0m |\n",
      "| \u001b[0m13       \u001b[0m | \u001b[0m0.8652   \u001b[0m | \u001b[0m0.01207  \u001b[0m | \u001b[0m126.8    \u001b[0m |\n",
      "| \u001b[0m14       \u001b[0m | \u001b[0m0.8801   \u001b[0m | \u001b[0m0.1986   \u001b[0m | \u001b[0m198.5    \u001b[0m |\n",
      "| \u001b[0m15       \u001b[0m | \u001b[0m0.8652   \u001b[0m | \u001b[0m0.01     \u001b[0m | \u001b[0m184.8    \u001b[0m |\n",
      "=================================================\n"
     ]
    },
    {
     "data": {
      "image/png": "[encoded data removed]",
      "text/plain": [
       "<Figure size 640x480 with 2 Axes>"
      ]
     },
     "metadata": {},
     "output_type": "display_data"
    },
    {
     "name": "stdout",
     "output_type": "stream",
     "text": [
      "Best hyperparameters: {'learning_rate': 0.6051038616257767, 'n_estimators': 144.53378978124863}\n",
      "Accuracy: 0.8077171804268162\n",
      "Precision: 0.8182040616589186\n",
      "Recall: 0.9573432579444604\n",
      "F1-Score: 0.8823218997361478\n"
     ]
    }
   ],
   "source": [
    "\n",
    "import matplotlib.pyplot as plt\n",
    "import seaborn as sns\n",
    "from sklearn.ensemble import AdaBoostClassifier\n",
    "from sklearn.metrics import accuracy_score, precision_score, recall_score, f1_score, confusion_matrix\n",
    "from sklearn.model_selection import cross_val_score\n",
    "from bayes_opt import BayesianOptimization\n",
    "\n",
    "\n",
    "\n",
    "\n",
    "# Define the AdaBoostClassifier model training and evaluation function\n",
    "def evaluate_adaboost(n_estimators, learning_rate):\n",
    "    clf = AdaBoostClassifier(\n",
    "        n_estimators=int(n_estimators),\n",
    "        learning_rate=learning_rate,\n",
    "        random_state=42,\n",
    "    )\n",
    "\n",
    "    clf.fit(X_train_news_tfidf, y_train)\n",
    "\n",
    "    # Predictions on the validation set\n",
    "    y_pred = clf.predict(X_val_news_tfidf)\n",
    "\n",
    "    # Calculate evaluation metrics\n",
    "    accuracy = accuracy_score(y_val, y_pred)\n",
    "    precision = precision_score(y_val, y_pred)\n",
    "    recall = recall_score(y_val, y_pred)\n",
    "    f1 = f1_score(y_val, y_pred)\n",
    "\n",
    "    return f1\n",
    "\n",
    "# Bayesian optimization for AdaBoostClassifier hyperparameters\n",
    "pbounds = {'n_estimators': (10, 200),\n",
    "           'learning_rate': (0.01, 1.0)}\n",
    "\n",
    "optimizer = BayesianOptimization(\n",
    "    f=evaluate_adaboost,\n",
    "    pbounds=pbounds,\n",
    "    verbose=2,\n",
    "    random_state=42,\n",
    ")\n",
    "\n",
    "optimizer.maximize(init_points=5, n_iter=10)\n",
    "\n",
    "# Get the best hyperparameters\n",
    "best_params = optimizer.max['params']\n",
    "\n",
    "# Train the final model with the best hyperparameters\n",
    "clf = AdaBoostClassifier(\n",
    "    n_estimators=int(best_params['n_estimators']),\n",
    "    learning_rate=best_params['learning_rate'],\n",
    "    random_state=42,\n",
    ")\n",
    "\n",
    "clf.fit(X_train_news_tfidf, y_train)\n",
    "\n",
    "# Predictions on the validation set\n",
    "y_pred = clf.predict(X_val_news_tfidf)\n",
    "\n",
    "# Calculate evaluation metrics\n",
    "accuracy = accuracy_score(y_val, y_pred)\n",
    "precision = precision_score(y_val, y_pred)\n",
    "recall = recall_score(y_val, y_pred)\n",
    "f1 = f1_score(y_val, y_pred)\n",
    "\n",
    "# Plot the confusion matrix\n",
    "cm = confusion_matrix(y_val, y_pred)\n",
    "sns.heatmap(cm, annot=True, fmt='d', cmap='Blues', xticklabels=['Fake', 'Real'], yticklabels=['Fake', 'Real'])\n",
    "plt.xlabel('Predicted Label')\n",
    "plt.ylabel('True Label')\n",
    "plt.title('Confusion Matrix')\n",
    "plt.show()\n",
    "\n",
    "# Print evaluation metrics\n",
    "print('Best hyperparameters:', best_params)\n",
    "print('Accuracy:', accuracy)\n",
    "print('Precision:', precision)\n",
    "print('Recall:', recall)\n",
    "print('F1-Score:', f1)\n",
    "\n"
   ]
  },
  {
   "cell_type": "code",
   "execution_count": 30,
   "id": "3fc4cbf6",
   "metadata": {},
   "outputs": [
    {
     "name": "stdout",
     "output_type": "stream",
     "text": [
      "|   iter    |  target   |     C     |   gamma   |\n",
      "-------------------------------------------------\n",
      "| \u001b[0m1        \u001b[0m | \u001b[0m0.8998   \u001b[0m | \u001b[0m3.752    \u001b[0m | \u001b[0m0.9512   \u001b[0m |\n",
      "| \u001b[0m2        \u001b[0m | \u001b[0m0.8984   \u001b[0m | \u001b[0m7.323    \u001b[0m | \u001b[0m0.6027   \u001b[0m |\n",
      "| \u001b[0m3        \u001b[0m | \u001b[0m0.8961   \u001b[0m | \u001b[0m1.569    \u001b[0m | \u001b[0m0.1644   \u001b[0m |\n",
      "| \u001b[0m4        \u001b[0m | \u001b[0m0.8969   \u001b[0m | \u001b[0m0.5903   \u001b[0m | \u001b[0m0.8675   \u001b[0m |\n",
      "| \u001b[0m5        \u001b[0m | \u001b[0m0.8991   \u001b[0m | \u001b[0m6.015    \u001b[0m | \u001b[0m0.711    \u001b[0m |\n",
      "| \u001b[0m6        \u001b[0m | \u001b[0m0.8811   \u001b[0m | \u001b[0m4.583    \u001b[0m | \u001b[0m0.01     \u001b[0m |\n",
      "| \u001b[95m7        \u001b[0m | \u001b[95m0.9002   \u001b[0m | \u001b[95m3.723    \u001b[0m | \u001b[95m0.9309   \u001b[0m |\n",
      "| \u001b[95m8        \u001b[0m | \u001b[95m0.9012   \u001b[0m | \u001b[95m2.955    \u001b[0m | \u001b[95m1.0      \u001b[0m |\n",
      "| \u001b[0m9        \u001b[0m | \u001b[0m0.8983   \u001b[0m | \u001b[0m2.93     \u001b[0m | \u001b[0m0.1537   \u001b[0m |\n",
      "| \u001b[0m10       \u001b[0m | \u001b[0m0.8984   \u001b[0m | \u001b[0m8.774    \u001b[0m | \u001b[0m0.9602   \u001b[0m |\n",
      "| \u001b[0m11       \u001b[0m | \u001b[0m0.8937   \u001b[0m | \u001b[0m9.802    \u001b[0m | \u001b[0m0.01807  \u001b[0m |\n",
      "| \u001b[0m12       \u001b[0m | \u001b[0m0.8853   \u001b[0m | \u001b[0m6.598    \u001b[0m | \u001b[0m0.01     \u001b[0m |\n",
      "| \u001b[95m13       \u001b[0m | \u001b[95m0.9028   \u001b[0m | \u001b[95m2.281    \u001b[0m | \u001b[95m0.9304   \u001b[0m |\n",
      "| \u001b[0m14       \u001b[0m | \u001b[0m0.9022   \u001b[0m | \u001b[0m1.663    \u001b[0m | \u001b[0m1.0      \u001b[0m |\n",
      "| \u001b[0m15       \u001b[0m | \u001b[0m0.8981   \u001b[0m | \u001b[0m8.233    \u001b[0m | \u001b[0m0.08916  \u001b[0m |\n",
      "=================================================\n"
     ]
    },
    {
     "data": {
      "image/png": "[encoded data removed]",
      "text/plain": [
       "<Figure size 640x480 with 2 Axes>"
      ]
     },
     "metadata": {},
     "output_type": "display_data"
    },
    {
     "name": "stdout",
     "output_type": "stream",
     "text": [
      "Best hyperparameters for SVM: {'C': 2.280831424151729, 'gamma': 0.930397032202244}\n",
      "Accuracy for SVM: 0.847165337357189\n",
      "Precision for SVM: 0.8602038149986935\n",
      "Recall for SVM: 0.949798038084247\n",
      "F1-Score for SVM: 0.9027834910187852\n"
     ]
    }
   ],
   "source": [
    "from sklearn.svm import SVC\n",
    "import matplotlib.pyplot as plt\n",
    "import seaborn as sns\n",
    "from sklearn.metrics import accuracy_score, precision_score, recall_score, f1_score, confusion_matrix\n",
    "from bayes_opt import BayesianOptimization\n",
    "\n",
    "# Define the SVM model training and evaluation function\n",
    "def evaluate_svm(C, gamma):\n",
    "    clf = SVC(C=C, gamma=gamma)\n",
    "    clf.fit(X_train_news_tfidf, y_train)\n",
    "\n",
    "    # Predictions on the validation set\n",
    "    y_pred = clf.predict(X_val_news_tfidf)\n",
    "\n",
    "    # Calculate evaluation metrics\n",
    "    accuracy = accuracy_score(y_val, y_pred)\n",
    "    precision = precision_score(y_val, y_pred)\n",
    "    recall = recall_score(y_val, y_pred)\n",
    "    f1 = f1_score(y_val, y_pred)\n",
    "\n",
    "    return f1\n",
    "\n",
    "# Bayesian optimization for SVM hyperparameters\n",
    "pbounds_svm = {'C': (0.01, 10),\n",
    "               'gamma': (0.01, 1.0)}\n",
    "\n",
    "optimizer_svm = BayesianOptimization(\n",
    "    f=evaluate_svm,\n",
    "    pbounds=pbounds_svm,\n",
    "    verbose=2,\n",
    "    random_state=42,\n",
    ")\n",
    "\n",
    "optimizer_svm.maximize(init_points=5, n_iter=10)\n",
    "\n",
    "# Get the best hyperparameters\n",
    "best_params_svm = optimizer_svm.max['params']\n",
    "\n",
    "# Train the final model with the best hyperparameters\n",
    "clf_svm = SVC(C=best_params_svm['C'], gamma=best_params_svm['gamma'])\n",
    "clf_svm.fit(X_train_news_tfidf, y_train)\n",
    "\n",
    "# Predictions on the validation set\n",
    "y_pred_svm = clf_svm.predict(X_val_news_tfidf)\n",
    "\n",
    "# Calculate evaluation metrics\n",
    "accuracy_svm = accuracy_score(y_val, y_pred_svm)\n",
    "precision_svm = precision_score(y_val, y_pred_svm)\n",
    "recall_svm = recall_score(y_val, y_pred_svm)\n",
    "f1_svm = f1_score(y_val, y_pred_svm)\n",
    "\n",
    "# Plot the confusion matrix for SVM\n",
    "cm_svm = confusion_matrix(y_val, y_pred_svm)\n",
    "sns.heatmap(cm_svm, annot=True, fmt='d', cmap='Blues', xticklabels=['Fake', 'Real'], yticklabels=['Fake', 'Real'])\n",
    "plt.xlabel('Predicted Label')\n",
    "plt.ylabel('True Label')\n",
    "plt.title('Confusion Matrix for SVM')\n",
    "plt.show()\n",
    "\n",
    "# Print evaluation metrics for SVM\n",
    "print('Best hyperparameters for SVM:', best_params_svm)\n",
    "print('Accuracy for SVM:', accuracy_svm)\n",
    "print('Precision for SVM:', precision_svm)\n",
    "print('Recall for SVM:', recall_svm)\n",
    "print('F1-Score for SVM:', f1_svm)\n"
   ]
  }
 ],
 "metadata": {
  "kernelspec": {
   "display_name": "Python 3 (ipykernel)",
   "language": "python",
   "name": "python3"
  },
  "language_info": {
   "codemirror_mode": {
    "name": "ipython",
    "version": 3
   },
   "file_extension": ".py",
   "mimetype": "text/x-python",
   "name": "python",
   "nbconvert_exporter": "python",
   "pygments_lexer": "ipython3",
   "version": "3.11.4"
  }
 },
 "nbformat": 4,
 "nbformat_minor": 5
}
